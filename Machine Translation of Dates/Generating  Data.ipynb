{
 "cells": [
  {
   "cell_type": "markdown",
   "metadata": {},
   "source": [
    "# Data Generation for building a neural network"
   ]
  },
  {
   "cell_type": "code",
   "execution_count": 1,
   "metadata": {},
   "outputs": [],
   "source": [
    "import numpy as np\n",
    "from faker import Faker\n",
    "import random\n",
    "from tqdm import tqdm\n",
    "from babel.dates import format_date"
   ]
  },
  {
   "cell_type": "code",
   "execution_count": 2,
   "metadata": {},
   "outputs": [],
   "source": [
    "from faker import Faker\n",
    "fake = Faker()\n",
    "\n",
    "# We need to seed these guys. For some reason I always use 101\n",
    "Faker.seed(41)\n",
    "random.seed(41)"
   ]
  },
  {
   "cell_type": "code",
   "execution_count": 3,
   "metadata": {},
   "outputs": [],
   "source": [
    "FORMATS = ['short', # d/M/YY\n",
    "           'medium', # MMM d, YYY\n",
    "           'medium',\n",
    "           'medium',\n",
    "           'long', # MMMM dd, YYY\n",
    "           'long',\n",
    "           'long',\n",
    "           'long',\n",
    "           'long',\n",
    "           'full', # EEEE, MMM dd, YYY\n",
    "           'full',\n",
    "           'full',\n",
    "           'd MMM YYY', \n",
    "           'd MMMM YYY',\n",
    "           'd MMMM YYY',\n",
    "           'd MMMM YYY',\n",
    "           'd MMMM YYY',\n",
    "           'd MMMM YYY',\n",
    "           'dd/MM/YYY',\n",
    "           'EE d, MMM YYY',\n",
    "           'EEEE d, MMMM YYY']"
   ]
  },
  {
   "cell_type": "code",
   "execution_count": 4,
   "metadata": {},
   "outputs": [],
   "source": [
    "def random_date():\n",
    "    dt = fake.date_object()\n",
    "\n",
    "    try:\n",
    "        date = format_date(dt, format=random.choice(FORMATS), locale='en')\n",
    "        human_readable = date.lower().replace(',', '')\n",
    "        machine_readable = dt.isoformat()\n",
    "\n",
    "    except AttributeError as e:\n",
    "        return None, None, None\n",
    "\n",
    "    return human_readable, machine_readable, dt\n"
   ]
  },
  {
   "cell_type": "code",
   "execution_count": 5,
   "metadata": {},
   "outputs": [],
   "source": [
    "def dataset(m):\n",
    "    human_vocab = set()\n",
    "    machine_vocab = set()\n",
    "    dataset = []\n",
    "    \n",
    "    for i in tqdm(range(m)):\n",
    "        h, m, _ = random_date()\n",
    "        if h is not None:\n",
    "            dataset.append((h, m))\n",
    "            human_vocab.update(tuple(h))\n",
    "            machine_vocab.update(tuple(m))\n",
    "    \n",
    "    # We also add two special chars, <unk> for unknown characters, and <pad> to add padding at the end\n",
    "    human = dict(zip(sorted(human_vocab) + ['<unk>', '<pad>'], list(range(len(human_vocab) + 2))))\n",
    "    inv_machine = dict(enumerate(sorted(machine_vocab)))\n",
    "    machine = {v: k for k, v in inv_machine.items()}\n",
    " \n",
    "    return dataset, human, machine, inv_machine"
   ]
  },
  {
   "cell_type": "code",
   "execution_count": 6,
   "metadata": {},
   "outputs": [
    {
     "name": "stderr",
     "output_type": "stream",
     "text": [
      "100%|██████████| 30000/30000 [00:03<00:00, 9459.20it/s] \n"
     ]
    }
   ],
   "source": [
    "m = 30000\n",
    "dataset, human_vocab, machine_vocab, inv_machine_vocab = dataset(m)"
   ]
  },
  {
   "cell_type": "code",
   "execution_count": 7,
   "metadata": {},
   "outputs": [],
   "source": [
    "def saveList(myList,filename):\n",
    "    # the filename should mention the extension 'npy'\n",
    "    np.save(filename,myList)\n",
    "    print(\"Saved successfully!\")"
   ]
  },
  {
   "cell_type": "code",
   "execution_count": 8,
   "metadata": {},
   "outputs": [
    {
     "name": "stdout",
     "output_type": "stream",
     "text": [
      "Saved successfully!\n"
     ]
    }
   ],
   "source": [
    "saveList(dataset,'Date_data.npy')"
   ]
  },
  {
   "cell_type": "markdown",
   "metadata": {},
   "source": [
    "By using this data generated, lets build a neural network in the next notebook"
   ]
  }
 ],
 "metadata": {
  "kernelspec": {
   "display_name": "Python 3",
   "language": "python",
   "name": "python3"
  },
  "language_info": {
   "codemirror_mode": {
    "name": "ipython",
    "version": 3
   },
   "file_extension": ".py",
   "mimetype": "text/x-python",
   "name": "python",
   "nbconvert_exporter": "python",
   "pygments_lexer": "ipython3",
   "version": "3.7.4"
  }
 },
 "nbformat": 4,
 "nbformat_minor": 2
}
